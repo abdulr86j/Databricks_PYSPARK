{
 "cells": [
  {
   "cell_type": "code",
   "execution_count": 1,
   "id": "2cc12fd9",
   "metadata": {},
   "outputs": [],
   "source": [
    "# Import PySpark\n",
    "import pyspark\n",
    "from pyspark.sql import SparkSession\n",
    "\n",
    "#Create SparkSession\n",
    "spark = SparkSession.builder\\\n",
    "                    .master(\"local[1]\")\\\n",
    "                    .appName(\"SparkByExamples.com\")\\\n",
    "                    .getOrCreate()"
   ]
  },
  {
   "cell_type": "code",
   "execution_count": 3,
   "id": "2c46dd77",
   "metadata": {},
   "outputs": [],
   "source": [
    "# Reading in the countries.csv file and specifying the schema\n",
    "countries_path = '../data/countries.csv'\n",
    " \n",
    "from pyspark.sql.types import IntegerType, StringType, DoubleType, StructField, StructType\n",
    "countries_schema = StructType([\n",
    "                    StructField(\"COUNTRY_ID\", IntegerType(), False),\n",
    "                    StructField(\"NAME\", StringType(), False),\n",
    "                    StructField(\"NATIONALITY\", StringType(), False),\n",
    "                    StructField(\"COUNTRY_CODE\", StringType(), False),\n",
    "                    StructField(\"ISO_ALPHA2\", StringType(), False),\n",
    "                    StructField(\"CAPITAL\", StringType(), False),\n",
    "                    StructField(\"POPULATION\", DoubleType(), False),\n",
    "                    StructField(\"AREA_KM2\", IntegerType(), False),\n",
    "                    StructField(\"REGION_ID\", IntegerType(), True),\n",
    "                    StructField(\"SUB_REGION_ID\", IntegerType(), True),\n",
    "                    StructField(\"INTERMEDIATE_REGION_ID\", IntegerType(), True),\n",
    "                    StructField(\"ORGANIZATION_REGION_ID\", IntegerType(), True)\n",
    "                    ]\n",
    "                    )\n",
    " \n",
    "countries=spark.read.csv(path=countries_path, header=True, schema=countries_schema)"
   ]
  },
  {
   "cell_type": "code",
   "execution_count": 5,
   "id": "27987c4a",
   "metadata": {},
   "outputs": [
    {
     "name": "stdout",
     "output_type": "stream",
     "text": [
      "+----------+-----+-----------+------------+----------+---------+-------------+--------+---------+-------------+----------------------+----------------------+\n",
      "|COUNTRY_ID| NAME|NATIONALITY|COUNTRY_CODE|ISO_ALPHA2|  CAPITAL|   POPULATION|AREA_KM2|REGION_ID|SUB_REGION_ID|INTERMEDIATE_REGION_ID|ORGANIZATION_REGION_ID|\n",
      "+----------+-----+-----------+------------+----------+---------+-------------+--------+---------+-------------+----------------------+----------------------+\n",
      "|        45|China|    Chinese|         CHN|        CN|  Beijing|1.433783686E9| 9706961|       30|           60|                  null|                    30|\n",
      "|       103|India|     Indian|         IND|        IN|New Delhi|1.366417754E9| 3287590|       30|           30|                  null|                    30|\n",
      "+----------+-----+-----------+------------+----------+---------+-------------+--------+---------+-------------+----------------------+----------------------+\n",
      "\n"
     ]
    }
   ],
   "source": [
    "# Using the filter method to filter records where populaton is less than 1000000000\n",
    "countries.filter(countries['population']>1000000000).show(2)"
   ]
  },
  {
   "cell_type": "code",
   "execution_count": 6,
   "id": "059f65a4",
   "metadata": {},
   "outputs": [
    {
     "name": "stdout",
     "output_type": "stream",
     "text": [
      "+----------+---------+-----------+------------+----------+------------+-----------+--------+---------+-------------+----------------------+----------------------+\n",
      "|COUNTRY_ID|     NAME|NATIONALITY|COUNTRY_CODE|ISO_ALPHA2|     CAPITAL| POPULATION|AREA_KM2|REGION_ID|SUB_REGION_ID|INTERMEDIATE_REGION_ID|ORGANIZATION_REGION_ID|\n",
      "+----------+---------+-----------+------------+----------+------------+-----------+--------+---------+-------------+----------------------+----------------------+\n",
      "|        10|Argentina|  Argentine|         ARG|        AR|Buenos Aires|4.4780677E7| 2780400|       10|           10|                    40|                    40|\n",
      "+----------+---------+-----------+------------+----------+------------+-----------+--------+---------+-------------+----------------------+----------------------+\n",
      "only showing top 1 row\n",
      "\n"
     ]
    }
   ],
   "source": [
    "# Using the locate function inside the filter condition\n",
    "# showing countries starting with B\n",
    "from pyspark.sql.functions import locate\n",
    "countries.filter(locate(\"B\", countries['capital'])==1).show(1)"
   ]
  },
  {
   "cell_type": "code",
   "execution_count": null,
   "id": "2e6fcfb4",
   "metadata": {},
   "outputs": [],
   "source": [
    "# Using 'AND' condition via & operator\n",
    "countries.filter( (length(countries['name']) > 15) & (countries['region_id'] != 10 )  ).display()"
   ]
  },
  {
   "cell_type": "code",
   "execution_count": null,
   "id": "223893cf",
   "metadata": {},
   "outputs": [],
   "source": [
    "# Using SQL syntax in the filter method\n",
    "countries.filter(\"length(name)>15 and region_id != 10\").display()"
   ]
  }
 ],
 "metadata": {
  "kernelspec": {
   "display_name": "Python 3 (ipykernel)",
   "language": "python",
   "name": "python3"
  },
  "language_info": {
   "codemirror_mode": {
    "name": "ipython",
    "version": 3
   },
   "file_extension": ".py",
   "mimetype": "text/x-python",
   "name": "python",
   "nbconvert_exporter": "python",
   "pygments_lexer": "ipython3",
   "version": "3.11.3"
  }
 },
 "nbformat": 4,
 "nbformat_minor": 5
}
