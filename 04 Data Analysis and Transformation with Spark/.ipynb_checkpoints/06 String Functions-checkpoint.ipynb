{
 "cells": [
  {
   "cell_type": "code",
   "execution_count": 1,
   "id": "96e0778e",
   "metadata": {},
   "outputs": [],
   "source": [
    "# Import PySpark\n",
    "import pyspark\n",
    "from pyspark.sql import SparkSession\n",
    "\n",
    "#Create SparkSession\n",
    "spark = SparkSession.builder\\\n",
    "                    .master(\"local[1]\")\\\n",
    "                    .appName(\"SparkByExamples.com\")\\\n",
    "                    .getOrCreate()"
   ]
  },
  {
   "cell_type": "code",
   "execution_count": null,
   "id": "f059a280",
   "metadata": {},
   "outputs": [],
   "source": [
    "# Reading in the countries.csv file and specifying the schema\n",
    "countries_path = '../data/countries.csv'\n",
    " \n",
    "from pyspark.sql.types import IntegerType, StringType, DoubleType, StructField, StructType\n",
    "countries_schema = StructType([\n",
    "                    StructField(\"COUNTRY_ID\", IntegerType(), False),\n",
    "                    StructField(\"NAME\", StringType(), False),\n",
    "                    StructField(\"NATIONALITY\", StringType(), False),\n",
    "                    StructField(\"COUNTRY_CODE\", StringType(), False),\n",
    "                    StructField(\"ISO_ALPHA2\", StringType(), False),\n",
    "                    StructField(\"CAPITAL\", StringType(), False),\n",
    "                    StructField(\"POPULATION\", DoubleType(), False),\n",
    "                    StructField(\"AREA_KM2\", IntegerType(), False),\n",
    "                    StructField(\"REGION_ID\", IntegerType(), True),\n",
    "                    StructField(\"SUB_REGION_ID\", IntegerType(), True),\n",
    "                    StructField(\"INTERMEDIATE_REGION_ID\", IntegerType(), True),\n",
    "                    StructField(\"ORGANIZATION_REGION_ID\", IntegerType(), True)\n",
    "                    ]\n",
    "                    )\n",
    " \n",
    "countries=spark.read.csv(path=countries_path, header=True, schema=countries_schema)"
   ]
  },
  {
   "cell_type": "code",
   "execution_count": null,
   "id": "58c1ebd8",
   "metadata": {},
   "outputs": [],
   "source": []
  }
 ],
 "metadata": {
  "kernelspec": {
   "display_name": "Python 3 (ipykernel)",
   "language": "python",
   "name": "python3"
  },
  "language_info": {
   "codemirror_mode": {
    "name": "ipython",
    "version": 3
   },
   "file_extension": ".py",
   "mimetype": "text/x-python",
   "name": "python",
   "nbconvert_exporter": "python",
   "pygments_lexer": "ipython3",
   "version": "3.11.3"
  }
 },
 "nbformat": 4,
 "nbformat_minor": 5
}
