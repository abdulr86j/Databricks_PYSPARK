{
 "cells": [
  {
   "cell_type": "code",
   "execution_count": 1,
   "id": "42b564e1",
   "metadata": {},
   "outputs": [],
   "source": [
    "# Import PySpark\n",
    "import pyspark\n",
    "from pyspark.sql import SparkSession\n",
    "\n",
    "#Create SparkSession\n",
    "spark = SparkSession.builder\\\n",
    "                    .master(\"local[1]\")\\\n",
    "                    .appName(\"SparkByExamples.com\")\\\n",
    "                    .getOrCreate()"
   ]
  },
  {
   "cell_type": "code",
   "execution_count": 2,
   "id": "bf9f8dca",
   "metadata": {},
   "outputs": [],
   "source": [
    "# Reading in the countries.csv file and specifying the schema\n",
    "countries_path = '../data/countries.csv'\n",
    " \n",
    "from pyspark.sql.types import IntegerType, StringType, DoubleType, StructField, StructType\n",
    "countries_schema = StructType([\n",
    "                    StructField(\"COUNTRY_ID\", IntegerType(), False),\n",
    "                    StructField(\"NAME\", StringType(), False),\n",
    "                    StructField(\"NATIONALITY\", StringType(), False),\n",
    "                    StructField(\"COUNTRY_CODE\", StringType(), False),\n",
    "                    StructField(\"ISO_ALPHA2\", StringType(), False),\n",
    "                    StructField(\"CAPITAL\", StringType(), False),\n",
    "                    StructField(\"POPULATION\", DoubleType(), False),\n",
    "                    StructField(\"AREA_KM2\", IntegerType(), False),\n",
    "                    StructField(\"REGION_ID\", IntegerType(), True),\n",
    "                    StructField(\"SUB_REGION_ID\", IntegerType(), True),\n",
    "                    StructField(\"INTERMEDIATE_REGION_ID\", IntegerType(), True),\n",
    "                    StructField(\"ORGANIZATION_REGION_ID\", IntegerType(), True)\n",
    "                    ]\n",
    "                    )\n",
    " \n",
    "countries=spark.read.csv(path=countries_path, header=True, schema=countries_schema)"
   ]
  },
  {
   "cell_type": "code",
   "execution_count": 5,
   "id": "f842392c",
   "metadata": {},
   "outputs": [
    {
     "data": {
      "text/plain": [
       "[Row(COUNTRY_ID=1, NAME='Afghanistan', NATIONALITY='Afghan', COUNTRY_CODE='AFG', ISO_ALPHA2='AF', CAPITAL='Kabul', POPULATION=38041754.0, AREA_KM2=652230, REGION_ID=30, SUB_REGION_ID=30, INTERMEDIATE_REGION_ID=None, ORGANIZATION_REGION_ID=30),\n",
       " Row(COUNTRY_ID=2, NAME='Albania', NATIONALITY='Albanian', COUNTRY_CODE='ALB', ISO_ALPHA2='AL', CAPITAL='Tirana', POPULATION=2880917.0, AREA_KM2=28748, REGION_ID=20, SUB_REGION_ID=70, INTERMEDIATE_REGION_ID=None, ORGANIZATION_REGION_ID=20)]"
      ]
     },
     "execution_count": 5,
     "metadata": {},
     "output_type": "execute_result"
    }
   ],
   "source": [
    "countries.head(2)"
   ]
  },
  {
   "cell_type": "code",
   "execution_count": null,
   "id": "fdabeece",
   "metadata": {},
   "outputs": [],
   "source": [
    "# Importing asc to sort in ascending order\n",
    "from pyspark.sql.functions import asc\n",
    "countries.sort(countries['population'].asc()).display()"
   ]
  },
  {
   "cell_type": "code",
   "execution_count": null,
   "id": "b779f435",
   "metadata": {},
   "outputs": [],
   "source": [
    "# Importing desc to sort in descending order\n",
    "from pyspark.sql.functions import desc\n",
    "countries.sort(countries['population'].desc()).display()"
   ]
  }
 ],
 "metadata": {
  "kernelspec": {
   "display_name": "Python 3 (ipykernel)",
   "language": "python",
   "name": "python3"
  },
  "language_info": {
   "codemirror_mode": {
    "name": "ipython",
    "version": 3
   },
   "file_extension": ".py",
   "mimetype": "text/x-python",
   "name": "python",
   "nbconvert_exporter": "python",
   "pygments_lexer": "ipython3",
   "version": "3.11.3"
  }
 },
 "nbformat": 4,
 "nbformat_minor": 5
}
