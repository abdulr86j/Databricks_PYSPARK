{
 "cells": [
  {
   "cell_type": "code",
   "execution_count": 1,
   "id": "6e7d2f77",
   "metadata": {},
   "outputs": [],
   "source": [
    "# Import PySpark\n",
    "import pyspark\n",
    "from pyspark.sql import SparkSession\n",
    "\n",
    "#Create SparkSession\n",
    "spark = SparkSession.builder\\\n",
    "                    .master(\"local[1]\")\\\n",
    "                    .appName(\"SparkByExamples.com\")\\\n",
    "                    .getOrCreate()"
   ]
  },
  {
   "cell_type": "code",
   "execution_count": 2,
   "id": "b8afc0b7",
   "metadata": {},
   "outputs": [],
   "source": [
    "# Reading in the countries.csv file and specifying the schema\n",
    "countries_path = '../data/countries.csv'\n",
    " \n",
    "from pyspark.sql.types import IntegerType, StringType, DoubleType, StructField, StructType\n",
    "countries_schema = StructType([\n",
    "                    StructField(\"COUNTRY_ID\", IntegerType(), False),\n",
    "                    StructField(\"NAME\", StringType(), False),\n",
    "                    StructField(\"NATIONALITY\", StringType(), False),\n",
    "                    StructField(\"COUNTRY_CODE\", StringType(), False),\n",
    "                    StructField(\"ISO_ALPHA2\", StringType(), False),\n",
    "                    StructField(\"CAPITAL\", StringType(), False),\n",
    "                    StructField(\"POPULATION\", DoubleType(), False),\n",
    "                    StructField(\"AREA_KM2\", IntegerType(), False),\n",
    "                    StructField(\"REGION_ID\", IntegerType(), True),\n",
    "                    StructField(\"SUB_REGION_ID\", IntegerType(), True),\n",
    "                    StructField(\"INTERMEDIATE_REGION_ID\", IntegerType(), True),\n",
    "                    StructField(\"ORGANIZATION_REGION_ID\", IntegerType(), True)\n",
    "                    ]\n",
    "                    )\n",
    " \n",
    "countries=spark.read.csv(path=countries_path, header=True, schema=countries_schema)"
   ]
  },
  {
   "cell_type": "code",
   "execution_count": 4,
   "id": "fe491437",
   "metadata": {},
   "outputs": [
    {
     "name": "stdout",
     "output_type": "stream",
     "text": [
      "+----------+-----------+-----------+------------+----------+-------+-----------+--------+---------+-------------+----------------------+----------------------+\n",
      "|COUNTRY_ID|       NAME|NATIONALITY|COUNTRY_CODE|ISO_ALPHA2|CAPITAL| POPULATION|AREA_KM2|REGION_ID|SUB_REGION_ID|INTERMEDIATE_REGION_ID|ORGANIZATION_REGION_ID|\n",
      "+----------+-----------+-----------+------------+----------+-------+-----------+--------+---------+-------------+----------------------+----------------------+\n",
      "|         1|Afghanistan|     Afghan|         AFG|        AF|  Kabul|3.8041754E7|  652230|       30|           30|                  null|                    30|\n",
      "|         2|    Albania|   Albanian|         ALB|        AL| Tirana|  2880917.0|   28748|       20|           70|                  null|                    20|\n",
      "+----------+-----------+-----------+------------+----------+-------+-----------+--------+---------+-------------+----------------------+----------------------+\n",
      "only showing top 2 rows\n",
      "\n"
     ]
    }
   ],
   "source": [
    "countries.show(2)"
   ]
  },
  {
   "cell_type": "code",
   "execution_count": null,
   "id": "1a959c2a",
   "metadata": {},
   "outputs": [],
   "source": [
    "# Importing asc to sort in ascending order\n",
    "from pyspark.sql.functions import asc\n",
    "countries.sort(countries['population'].asc()).display()"
   ]
  },
  {
   "cell_type": "code",
   "execution_count": null,
   "id": "565e0c68",
   "metadata": {},
   "outputs": [],
   "source": [
    "# Importing desc to sort in descending order\n",
    "from pyspark.sql.functions import desc\n",
    "countries.sort(countries['population'].desc()).display()"
   ]
  }
 ],
 "metadata": {
  "kernelspec": {
   "display_name": "Python 3 (ipykernel)",
   "language": "python",
   "name": "python3"
  },
  "language_info": {
   "codemirror_mode": {
    "name": "ipython",
    "version": 3
   },
   "file_extension": ".py",
   "mimetype": "text/x-python",
   "name": "python",
   "nbconvert_exporter": "python",
   "pygments_lexer": "ipython3",
   "version": "3.11.3"
  }
 },
 "nbformat": 4,
 "nbformat_minor": 5
}
