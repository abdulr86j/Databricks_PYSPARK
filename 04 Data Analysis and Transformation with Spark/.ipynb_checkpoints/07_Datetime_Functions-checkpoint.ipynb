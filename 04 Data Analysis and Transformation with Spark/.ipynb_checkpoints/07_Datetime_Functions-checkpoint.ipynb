{
 "cells": [
  {
   "cell_type": "code",
   "execution_count": 2,
   "id": "672e560d",
   "metadata": {},
   "outputs": [],
   "source": [
    "# Import PySpark\n",
    "import pyspark\n",
    "from pyspark.sql import SparkSession\n",
    "\n",
    "#Create SparkSession\n",
    "spark = SparkSession.builder\\\n",
    "                    .master(\"local[1]\")\\\n",
    "                    .appName(\"SparkByExamples.com\")\\\n",
    "                    .getOrCreate()"
   ]
  },
  {
   "cell_type": "code",
   "execution_count": 8,
   "id": "4cbe907f",
   "metadata": {},
   "outputs": [],
   "source": [
    "# Reading in the countries.csv file and specifying the schema\n",
    "countries_path = '../data/countries.csv'\n",
    " \n",
    "from pyspark.sql.types import IntegerType, StringType, DoubleType, StructField, StructType\n",
    "countries_schema = StructType([\n",
    "                    StructField(\"COUNTRY_ID\", IntegerType(), False),\n",
    "                    StructField(\"NAME\", StringType(), False),\n",
    "                    StructField(\"NATIONALITY\", StringType(), False),\n",
    "                    StructField(\"COUNTRY_CODE\", StringType(), False),\n",
    "                    StructField(\"ISO_ALPHA2\", StringType(), False),\n",
    "                    StructField(\"CAPITAL\", StringType(), False),\n",
    "                    StructField(\"POPULATION\", DoubleType(), False),\n",
    "                    StructField(\"AREA_KM2\", IntegerType(), False),\n",
    "                    StructField(\"REGION_ID\", IntegerType(), True),\n",
    "                    StructField(\"SUB_REGION_ID\", IntegerType(), True),\n",
    "                    StructField(\"INTERMEDIATE_REGION_ID\", IntegerType(), True),\n",
    "                    StructField(\"ORGANIZATION_REGION_ID\", IntegerType(), True)\n",
    "                    ]\n",
    "                    )\n",
    " \n",
    "countries=spark.read.csv(path=countries_path, header=True, schema=countries_schema)"
   ]
  },
  {
   "cell_type": "code",
   "execution_count": null,
   "id": "4931356c",
   "metadata": {},
   "outputs": [],
   "source": [
    "# not working\n",
    "#countries.display()"
   ]
  },
  {
   "cell_type": "code",
   "execution_count": 11,
   "id": "0d67e1c1",
   "metadata": {},
   "outputs": [],
   "source": [
    "# Importing all functions and using current_timestamp and withColumn\n",
    "from pyspark.sql.functions import *\n",
    "countries = countries.withColumn('timestamp', current_timestamp())"
   ]
  },
  {
   "cell_type": "code",
   "execution_count": 14,
   "id": "014f4cba",
   "metadata": {},
   "outputs": [
    {
     "data": {
      "text/plain": [
       "DataFrame[COUNTRY_ID: int, NAME: string, NATIONALITY: string, COUNTRY_CODE: string, ISO_ALPHA2: string, CAPITAL: string, POPULATION: double, AREA_KM2: int, REGION_ID: int, SUB_REGION_ID: int, INTERMEDIATE_REGION_ID: int, ORGANIZATION_REGION_ID: int, timestamp: timestamp]"
      ]
     },
     "metadata": {},
     "output_type": "display_data"
    }
   ],
   "source": [
    "display(countries.limit(5))"
   ]
  },
  {
   "cell_type": "code",
   "execution_count": null,
   "id": "3d1a62e2",
   "metadata": {},
   "outputs": [],
   "source": [
    "countries.head(5)"
   ]
  },
  {
   "cell_type": "code",
   "execution_count": 15,
   "id": "271ed014",
   "metadata": {},
   "outputs": [
    {
     "name": "stdout",
     "output_type": "stream",
     "text": [
      "+---------------+\n",
      "|year(timestamp)|\n",
      "+---------------+\n",
      "|           2023|\n",
      "|           2023|\n",
      "|           2023|\n",
      "+---------------+\n",
      "only showing top 3 rows\n",
      "\n"
     ]
    }
   ],
   "source": [
    "# Using year to extract the year\n",
    "countries.select(year(countries['timestamp'])).show(3)"
   ]
  },
  {
   "cell_type": "code",
   "execution_count": 14,
   "id": "9ee577fa",
   "metadata": {},
   "outputs": [
    {
     "data": {
      "text/plain": [
       "[('COUNTRY_ID', 'int'),\n",
       " ('NAME', 'string'),\n",
       " ('NATIONALITY', 'string'),\n",
       " ('COUNTRY_CODE', 'string'),\n",
       " ('ISO_ALPHA2', 'string'),\n",
       " ('CAPITAL', 'string'),\n",
       " ('POPULATION', 'double'),\n",
       " ('AREA_KM2', 'int'),\n",
       " ('REGION_ID', 'int'),\n",
       " ('SUB_REGION_ID', 'int'),\n",
       " ('INTERMEDIATE_REGION_ID', 'int'),\n",
       " ('ORGANIZATION_REGION_ID', 'int'),\n",
       " ('timestamp', 'timestamp')]"
      ]
     },
     "execution_count": 14,
     "metadata": {},
     "output_type": "execute_result"
    }
   ],
   "source": [
    "countries.dtypes"
   ]
  },
  {
   "cell_type": "code",
   "execution_count": null,
   "id": "395858ca",
   "metadata": {},
   "outputs": [],
   "source": [
    "#append column \n",
    "countries = countries.withColumn('date_literal', lit('27-10-2020'))"
   ]
  },
  {
   "cell_type": "code",
   "execution_count": null,
   "id": "59252a59",
   "metadata": {},
   "outputs": [],
   "source": [
    "# Using the to_date function to convert a string to a date\n",
    "countries = countries.withColumn('date', to_date(countries['date_literal'],'dd-MM-yyyy'))"
   ]
  }
 ],
 "metadata": {
  "kernelspec": {
   "display_name": "Python 3 (ipykernel)",
   "language": "python",
   "name": "python3"
  },
  "language_info": {
   "codemirror_mode": {
    "name": "ipython",
    "version": 3
   },
   "file_extension": ".py",
   "mimetype": "text/x-python",
   "name": "python",
   "nbconvert_exporter": "python",
   "pygments_lexer": "ipython3",
   "version": "3.11.3"
  }
 },
 "nbformat": 4,
 "nbformat_minor": 5
}
