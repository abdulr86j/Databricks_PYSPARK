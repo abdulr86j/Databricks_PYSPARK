{
 "cells": [
  {
   "cell_type": "code",
   "execution_count": 5,
   "id": "708e44c3",
   "metadata": {},
   "outputs": [],
   "source": [
    "# Import PySpark\n",
    "import pyspark\n",
    "from pyspark.sql import SparkSession\n",
    "\n",
    "#Create SparkSession\n",
    "spark = SparkSession.builder\\\n",
    "                    .master(\"local[1]\")\\\n",
    "                    .appName(\"SparkByExamples.com\")\\\n",
    "                    .getOrCreate()"
   ]
  },
  {
   "cell_type": "code",
   "execution_count": 8,
   "id": "5fb766d1",
   "metadata": {},
   "outputs": [],
   "source": [
    "# Reading in the countries.csv file and specifying the schema\n",
    "countries_path = 'data/countries.csv'\n",
    " \n",
    "from pyspark.sql.types import IntegerType, StringType, DoubleType, StructField, StructType\n",
    "countries_schema = StructType([\n",
    "                    StructField(\"COUNTRY_ID\", IntegerType(), False),\n",
    "                    StructField(\"NAME\", StringType(), False),\n",
    "                    StructField(\"NATIONALITY\", StringType(), False),\n",
    "                    StructField(\"COUNTRY_CODE\", StringType(), False),\n",
    "                    StructField(\"ISO_ALPHA2\", StringType(), False),\n",
    "                    StructField(\"CAPITAL\", StringType(), False),\n",
    "                    StructField(\"POPULATION\", DoubleType(), False),\n",
    "                    StructField(\"AREA_KM2\", IntegerType(), False),\n",
    "                    StructField(\"REGION_ID\", IntegerType(), True),\n",
    "                    StructField(\"SUB_REGION_ID\", IntegerType(), True),\n",
    "                    StructField(\"INTERMEDIATE_REGION_ID\", IntegerType(), True),\n",
    "                    StructField(\"ORGANIZATION_REGION_ID\", IntegerType(), True)\n",
    "                    ]\n",
    "                    )\n",
    " \n",
    "countries=spark.read.csv(path=countries_path, header=True, schema=countries_schema)"
   ]
  },
  {
   "cell_type": "code",
   "execution_count": 9,
   "id": "3415c108",
   "metadata": {},
   "outputs": [
    {
     "data": {
      "text/plain": [
       "249"
      ]
     },
     "execution_count": 9,
     "metadata": {},
     "output_type": "execute_result"
    }
   ],
   "source": [
    "countries.count()"
   ]
  },
  {
   "cell_type": "code",
   "execution_count": 10,
   "id": "15e2c9a6",
   "metadata": {},
   "outputs": [
    {
     "data": {
      "text/plain": [
       "[('COUNTRY_ID', 'int'),\n",
       " ('NAME', 'string'),\n",
       " ('NATIONALITY', 'string'),\n",
       " ('COUNTRY_CODE', 'string'),\n",
       " ('ISO_ALPHA2', 'string'),\n",
       " ('CAPITAL', 'string'),\n",
       " ('POPULATION', 'double'),\n",
       " ('AREA_KM2', 'int'),\n",
       " ('REGION_ID', 'int'),\n",
       " ('SUB_REGION_ID', 'int'),\n",
       " ('INTERMEDIATE_REGION_ID', 'int'),\n",
       " ('ORGANIZATION_REGION_ID', 'int')]"
      ]
     },
     "execution_count": 10,
     "metadata": {},
     "output_type": "execute_result"
    }
   ],
   "source": [
    "countries.dtypes"
   ]
  },
  {
   "cell_type": "code",
   "execution_count": 11,
   "id": "8a7d7a5b",
   "metadata": {},
   "outputs": [],
   "source": [
    "# Reading the countries file without specifying the schema, into a new variable\n",
    "countries_dt = spark.read.csv(path=countries_path, header=True)"
   ]
  },
  {
   "cell_type": "code",
   "execution_count": 12,
   "id": "24ab63d2",
   "metadata": {},
   "outputs": [
    {
     "data": {
      "text/plain": [
       "[('COUNTRY_ID', 'string'),\n",
       " ('NAME', 'string'),\n",
       " ('NATIONALITY', 'string'),\n",
       " ('COUNTRY_CODE', 'string'),\n",
       " ('ISO_ALPHA2', 'string'),\n",
       " ('CAPITAL', 'string'),\n",
       " ('POPULATION', 'string'),\n",
       " ('AREA_KM2', 'string'),\n",
       " ('REGION_ID', 'string'),\n",
       " ('SUB_REGION_ID', 'string'),\n",
       " ('INTERMEDIATE_REGION_ID', 'string'),\n",
       " ('ORGANIZATION_REGION_ID', 'string')]"
      ]
     },
     "execution_count": 12,
     "metadata": {},
     "output_type": "execute_result"
    }
   ],
   "source": [
    "countries_dt.dtypes"
   ]
  },
  {
   "cell_type": "code",
   "execution_count": 13,
   "id": "dd234575",
   "metadata": {},
   "outputs": [
    {
     "data": {
      "text/plain": [
       "[('population', 'int')]"
      ]
     },
     "execution_count": 13,
     "metadata": {},
     "output_type": "execute_result"
    }
   ],
   "source": [
    "# Using the cast method to cast the population column as IntegerType(), IntegerType() has already been imported in the first cell\n",
    "countries_dt.select(countries_dt['population'].cast(IntegerType())).dtypes"
   ]
  },
  {
   "cell_type": "code",
   "execution_count": null,
   "id": "359f0ce6",
   "metadata": {},
   "outputs": [],
   "source": []
  }
 ],
 "metadata": {
  "kernelspec": {
   "display_name": "Python 3 (ipykernel)",
   "language": "python",
   "name": "python3"
  },
  "language_info": {
   "codemirror_mode": {
    "name": "ipython",
    "version": 3
   },
   "file_extension": ".py",
   "mimetype": "text/x-python",
   "name": "python",
   "nbconvert_exporter": "python",
   "pygments_lexer": "ipython3",
   "version": "3.11.3"
  }
 },
 "nbformat": 4,
 "nbformat_minor": 5
}
